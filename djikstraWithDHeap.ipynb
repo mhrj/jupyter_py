{
 "cells": [
  {
   "cell_type": "markdown",
   "id": "60bb7b11-96fe-4e92-9bdb-7da1e53b53bc",
   "metadata": {},
   "source": [
    "referense video ==> https://youtu.be/09_LlHjoEiY?si=i71MB9iF3UNjDwdz\n",
    "this algorithm is better for dense graphs remove cost > update cost\n",
    "djikstra with dense graph"
   ]
  },
  {
   "cell_type": "code",
   "execution_count": 1,
   "id": "58b40cba-b6d9-4cb1-8990-5e5d47758a3f",
   "metadata": {},
   "outputs": [],
   "source": [
    "import math\n",
    "%run customheap.ipynb\n",
    "%run graphstructures.ipynb"
   ]
  },
  {
   "cell_type": "markdown",
   "id": "bbec6d0b-5e69-404a-a252-1495849b3ec6",
   "metadata": {},
   "source": [
    "pseudo_matrix representing graph"
   ]
  },
  {
   "cell_type": "code",
   "execution_count": 2,
   "id": "741df065-e484-4f40-8514-d7fd25b71c15",
   "metadata": {},
   "outputs": [],
   "source": [
    "num_of_nodes = 6\n",
    "edges = 0\n",
    "\n",
    "pseudo_matrix = [\n",
    "    [0,5,1,0,0,0],\n",
    "    [0,0,2,3,20,0],\n",
    "    [0,3,0,0,12,0],\n",
    "    [0,0,3,0,2,6],\n",
    "    [0,0,0,0,0,1],\n",
    "    [0,0,0,0,0,0]\n",
    "]"
   ]
  },
  {
   "cell_type": "code",
   "execution_count": 3,
   "id": "e7951ed1-c118-43df-acb1-8eacb4fefdd8",
   "metadata": {},
   "outputs": [],
   "source": [
    "def create_graph_list():\n",
    "    global edges\n",
    "    weight_graph_list = {}\n",
    "    for vertice in range(num_of_nodes):\n",
    "        weight_graph_list[vertice] = []\n",
    "        for index,edge in enumerate(pseudo_matrix[vertice]):\n",
    "            if edge != 0:\n",
    "                weight_graph_list[vertice].append(create_node(index,edge)) \n",
    "                edges += 1\n",
    "                \n",
    "    return weight_graph_list"
   ]
  },
  {
   "cell_type": "code",
   "execution_count": 4,
   "id": "1cd90e08-d76b-4931-81e5-57a5f455edcd",
   "metadata": {},
   "outputs": [],
   "source": [
    "def create_parent(weight_graph_list):\n",
    "    parent = {}\n",
    "    for i in weight_graph_list:\n",
    "        parent[i] = -1\n",
    "    return parent"
   ]
  },
  {
   "cell_type": "code",
   "execution_count": 5,
   "id": "84a0a2ac-50f7-4c99-aa99-f1fe46f89420",
   "metadata": {},
   "outputs": [],
   "source": [
    "def create_node(to,weight):\n",
    "    return node(to=to,weight=weight)"
   ]
  },
  {
   "cell_type": "code",
   "execution_count": 6,
   "id": "a1a9eadd-54c0-44d3-86c7-0822644c6170",
   "metadata": {},
   "outputs": [],
   "source": [
    "def create_dist(weight_graph_list,starting_node):\n",
    "   dist = [math.inf for i in weight_graph_list]\n",
    "   dist[starting_node] = 0\n",
    "   return dist"
   ]
  },
  {
   "cell_type": "code",
   "execution_count": 7,
   "id": "338e2a36-2e1a-4b59-b019-d2b91c1030e4",
   "metadata": {},
   "outputs": [],
   "source": [
    "def create_visited(weight_graph_list):\n",
    "   return [False for i in weight_graph_list]"
   ]
  },
  {
   "cell_type": "code",
   "execution_count": 8,
   "id": "a3fd4782-06ef-45ef-94f5-2370d2939393",
   "metadata": {},
   "outputs": [],
   "source": [
    "edges = 0\n",
    "starting_node = 0\n",
    "weight_graph_list = create_graph_list()\n",
    "parent = create_parent(weight_graph_list)\n",
    "dist = create_dist(weight_graph_list,starting_node)\n",
    "visited = create_visited(weight_graph_list)\n",
    "degree = math.ceil(edges / num_of_nodes)\n",
    "ipq = MinIndexedDHeap(degree)"
   ]
  },
  {
   "cell_type": "code",
   "execution_count": 9,
   "id": "04a3f132-3079-4eb6-b5d4-942310aa13b1",
   "metadata": {},
   "outputs": [],
   "source": [
    "def find_path(s,parent):\n",
    "    for i in weight_graph_list:\n",
    "        path = []\n",
    "        path.append(i)\n",
    "        p = i\n",
    "        while p != 0 and p != -1:\n",
    "            a = parent[p]\n",
    "            path.append(parent[p])\n",
    "            p = parent[p]\n",
    "        path.reverse()\n",
    "        print(f\"path from {s} to {i} is {path}\")"
   ]
  },
  {
   "cell_type": "code",
   "execution_count": 10,
   "id": "6d92abe6",
   "metadata": {},
   "outputs": [
    {
     "name": "stdout",
     "output_type": "stream",
     "text": [
      "path from 0 to 0 is [0]\n",
      "path from 0 to 1 is [0, 2, 1]\n",
      "path from 0 to 2 is [0, 2]\n",
      "path from 0 to 3 is [0, 2, 1, 3]\n",
      "path from 0 to 4 is [0, 2, 1, 3, 4]\n",
      "path from 0 to 5 is [0, 2, 1, 3, 4, 5]\n",
      "[0, 4, 1, 7, 9, 10]\n"
     ]
    }
   ],
   "source": [
    "def djkstra_with_Dheap():\n",
    "    n = create_node(0,0)\n",
    "    ipq.insert(n)\n",
    "    while ipq.show_length() > 0:\n",
    "        n = ipq.remove()\n",
    "        visited[n.to] = True\n",
    "        if(dist[n.to] < n.weight) : continue\n",
    "        for neighbour in weight_graph_list[n.to]:\n",
    "            if visited[neighbour.to] == True : continue\n",
    "            new_dist = dist[n.to] + neighbour.weight\n",
    "            if  new_dist < dist[neighbour.to]:\n",
    "                does_exist = ipq.does_exist(neighbour) \n",
    "                if(does_exist != -1):\n",
    "                    dist[neighbour.to] = new_dist\n",
    "                    ipq.update(neighbour.to,new_dist)\n",
    "                    parent[neighbour.to] = n.to\n",
    "                else:\n",
    "                    dist[neighbour.to] = new_dist\n",
    "                    neighbour.weight = new_dist\n",
    "                    ipq.insert(neighbour)\n",
    "                    parent[neighbour.to] = n.to\n",
    "    find_path(starting_node,parent)\n",
    "    print(dist)   \n",
    "    \n",
    "djkstra_with_Dheap()"
   ]
  }
 ],
 "metadata": {
  "kernelspec": {
   "display_name": "Python 3 (ipykernel)",
   "language": "python",
   "name": "python3"
  },
  "language_info": {
   "codemirror_mode": {
    "name": "ipython",
    "version": 3
   },
   "file_extension": ".py",
   "mimetype": "text/x-python",
   "name": "python",
   "nbconvert_exporter": "python",
   "pygments_lexer": "ipython3",
   "version": "3.11.3"
  }
 },
 "nbformat": 4,
 "nbformat_minor": 5
}
