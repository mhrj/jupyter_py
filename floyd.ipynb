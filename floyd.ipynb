{
 "cells": [
  {
   "cell_type": "code",
   "execution_count": null,
   "id": "899ae92a",
   "metadata": {
    "tags": []
   },
   "outputs": [],
   "source": [
    "import math"
   ]
  },
  {
   "cell_type": "markdown",
   "id": "e7de99aa",
   "metadata": {},
   "source": [
    "adjacecny matrices representing distance graph"
   ]
  },
  {
   "cell_type": "code",
   "execution_count": null,
   "id": "ae4ff5e7",
   "metadata": {
    "tags": []
   },
   "outputs": [],
   "source": [
    "adjacency_matrices = [[0,4,1,math.inf],\n",
    "                     [math.inf,0,6,math.inf],\n",
    "                     [4,1,0,2],\n",
    "                     [math.inf,math.inf,math.inf,0]]\n",
    "print(adjacency_matrices)\n",
    "number_of_nodes = 4"
   ]
  },
  {
   "cell_type": "markdown",
   "id": "c4814467",
   "metadata": {},
   "source": [
    "k is the node that stands still until all nodes are compared through it which means k works as a middle man between other nodes\n",
    "lets say adjacency_matrices[i][k] is distance between current node (i) and k then adjacency_matrices[k][j] is the distance between k\n",
    "and target node (j) then we compare if adjacency_matrices[i][j] (distance between current node and target node) is shorter or \n",
    "adjacency_matrices[i][k] + adjacency_matrices[k][j] (distance from i to k + distance from k to target node)"
   ]
  },
  {
   "cell_type": "code",
   "execution_count": null,
   "id": "d9598f25",
   "metadata": {
    "tags": []
   },
   "outputs": [],
   "source": [
    "def floyed_warshall():\n",
    "    for k in range(number_of_nodes):\n",
    "        for i in range(number_of_nodes):\n",
    "            for j in range(number_of_nodes):\n",
    "                adjacency_matrices[i][j] = min(adjacency_matrices[i][j],adjacency_matrices[i][k] + adjacency_matrices[k][j])\n",
    "    print(adjacency_matrices)"
   ]
  },
  {
   "cell_type": "code",
   "execution_count": null,
   "id": "5947f80b-b625-4a74-93a1-ee1732f08d05",
   "metadata": {
    "tags": []
   },
   "outputs": [],
   "source": [
    "floyed_warshall()"
   ]
  }
 ],
 "metadata": {
  "kernelspec": {
   "display_name": "Python 3 (ipykernel)",
   "language": "python",
   "name": "python3"
  },
  "language_info": {
   "codemirror_mode": {
    "name": "ipython",
    "version": 3
   },
   "file_extension": ".py",
   "mimetype": "text/x-python",
   "name": "python",
   "nbconvert_exporter": "python",
   "pygments_lexer": "ipython3",
   "version": "3.11.3"
  }
 },
 "nbformat": 4,
 "nbformat_minor": 5
}
