{
 "cells": [
  {
   "cell_type": "markdown",
   "id": "ea66ef07-04f9-4057-8c85-70ab996cc551",
   "metadata": {},
   "source": [
    "refrence video ==> https://www.youtube.com/watch?v=JZBQLXgSGfs&t=288s"
   ]
  },
  {
   "cell_type": "code",
   "execution_count": 5,
   "id": "6b219d8e-763b-4769-84e5-e63e0110da22",
   "metadata": {},
   "outputs": [],
   "source": [
    "import math\n",
    "%run graphstructures.ipynb\n",
    "%run heap.ipynb"
   ]
  },
  {
   "attachments": {
    "96de8fb1-ad18-4ec9-8b89-adbc553c2882.png": {
     "image/png": "[encoded data removed]"
    }
   },
   "cell_type": "markdown",
   "id": "e1358043-15a3-48b6-bb93-304fc8d818f9",
   "metadata": {},
   "source": [
    "we have adjacency list and representing node via node class\n",
    "\n",
    "\n",
    "\n",
    "\n",
    "\n",
    "![Screenshot (95).png](attachment:96de8fb1-ad18-4ec9-8b89-adbc553c2882.png)"
   ]
  },
  {
   "cell_type": "code",
   "execution_count": 6,
   "id": "487b8113-65bc-451e-b5d4-f07f51913908",
   "metadata": {},
   "outputs": [],
   "source": [
    "number_of_nodes = 10\n",
    "num_of_edges = 18\n",
    "adjacy_list = {\n",
    "    \"A\" : [node(1,\"E\",\"A\"),node(4,\"D\",\"A\"),node(5,\"B\",\"A\")],\n",
    "    \"B\" : [node(5,\"A\",\"B\"),node(4,\"C\",\"B\"),node(2,\"D\",\"B\")],\n",
    "    \"C\" : [node(4,\"B\",\"C\"),node(2,\"J\",\"C\"),node(1,\"I\",\"C\"),node(4,\"H\",\"C\")],\n",
    "    \"D\" : [node(2,\"B\",\"D\"),node(4,\"A\",\"D\"),node(2,\"E\",\"D\"),node(5,\"F\",\"D\"),node(11,\"G\",\"D\"),node(2,\"H\",\"D\")],\n",
    "    \"E\" : [node(1,\"A\",\"E\"),node(1,\"F\",\"E\"),node(2,\"D\",\"E\")],\n",
    "    \"F\" : [node(7,\"G\",\"F\"),node(1,\"E\",\"F\"),node(5,\"D\",\"F\")],\n",
    "    \"G\" : [node(11,\"D\",\"G\"),node(1,\"H\",\"G\"),node(4,\"I\",\"G\"),node(7,\"F\",\"G\")],\n",
    "    \"H\" : [node(2,\"D\",\"H\"),node(1,\"G\",\"H\"),node(6,\"I\",\"H\"),node(4,\"C\",\"H\")],\n",
    "    \"I\" : [node(4,\"G\",\"I\"),node(6,\"H\",\"I\"),node(1,\"C\",\"I\"),node(0,\"J\",\"I\")],\n",
    "    \"J\" : [node(0,\"I\",\"J\"),node(2,\"C\",\"J\")]\n",
    "}"
   ]
  },
  {
   "cell_type": "markdown",
   "id": "c8bea075-0581-4e59-8f02-53424dd95881",
   "metadata": {},
   "source": [
    "create visited dict to track visited nodes in search_and_create_min_heap() method"
   ]
  },
  {
   "cell_type": "code",
   "execution_count": 7,
   "id": "2ab9cdb7-cfb9-4059-806e-4c6da2484fce",
   "metadata": {},
   "outputs": [],
   "source": [
    "def create_visited():\n",
    "    visited = {}\n",
    "    for node in adjacy_list:\n",
    "        visited[node] = False\n",
    "    return visited"
   ]
  },
  {
   "cell_type": "markdown",
   "id": "68e95d83-934f-4b44-8ac4-a46b783b8b26",
   "metadata": {},
   "source": [
    "global variables:\n",
    "degree: to create min indexed dheap|,,\n",
    "reconstructed_path: to show our new mst|,,"
   ]
  },
  {
   "cell_type": "code",
   "execution_count": 8,
   "id": "7be51c77-a327-49a1-824f-8fccf2cc3127",
   "metadata": {},
   "outputs": [],
   "source": [
    "degree = degree = math.ceil(num_of_edges / number_of_nodes) \n",
    "heap = MinIndexedDHeap(degree)\n",
    "reconstructed_path = []"
   ]
  },
  {
   "cell_type": "markdown",
   "id": "95927d92-6cb7-4028-ad34-f3ac28c67fb0",
   "metadata": {},
   "source": [
    "here we search all of the nodes neghbourings and adding them to heap"
   ]
  },
  {
   "cell_type": "code",
   "execution_count": 9,
   "id": "2d852654-17b6-4343-85b7-8523387ce720",
   "metadata": {},
   "outputs": [],
   "source": [
    "def search_and_create_min_heap():\n",
    "    time = 0\n",
    "    visited = create_visited()\n",
    "    for node in adjacy_list:\n",
    "        visited[node] = True\n",
    "        search_neighbourings(node,visited)\n",
    "    reconstruct_path()  "
   ]
  },
  {
   "cell_type": "markdown",
   "id": "3d5de178-0954-4be2-99fd-e4e665484d65",
   "metadata": {},
   "source": [
    "searches all neghbourings of each node"
   ]
  },
  {
   "cell_type": "code",
   "execution_count": 10,
   "id": "9630a6c6-986b-4d77-ae83-781858a6a922",
   "metadata": {},
   "outputs": [],
   "source": [
    "def search_neighbourings(node,visited):\n",
    "    for item in adjacy_list[node]:\n",
    "        if(visited[item.to] == True):continue\n",
    "        heap.insert(item)"
   ]
  },
  {
   "cell_type": "markdown",
   "id": "abb3166f-8679-4a27-8f94-3547143776c3",
   "metadata": {},
   "source": [
    "checks if the edge we want to add to the mst dosent create any cycle, by getting the end side of the edge and track it down to see if we reach\n",
    "to starting side of the edge. ==> eg. we have c => j we take j and see which nodes are conected to j. eg. i => j then we check\n",
    "to see what node is connected to i and we continue doing this until we discover a cycle if we dindt have any cycle return false or none"
   ]
  },
  {
   "cell_type": "code",
   "execution_count": 11,
   "id": "60689853-6c93-4ba2-9e5f-0c0972ea0692",
   "metadata": {},
   "outputs": [],
   "source": [
    "def does_create_cycle(item,target_node):\n",
    "    for i in reconstructed_path:\n",
    "        if(item == i.to):\n",
    "           if(i.origin == target_node):\n",
    "               return True \n",
    "           return does_create_cycle(i.origin,target_node)"
   ]
  },
  {
   "cell_type": "markdown",
   "id": "989e52fb-3093-49a5-997a-d159e7508ac9",
   "metadata": {},
   "source": [
    "every time gets the smallest edge cost and adds it to reconstructed_path if we dont have any cycle"
   ]
  },
  {
   "cell_type": "code",
   "execution_count": 12,
   "id": "d491c283-c20d-4342-b5c0-2e2e593b4839",
   "metadata": {},
   "outputs": [],
   "source": [
    "def reconstruct_path():\n",
    "    counter = 0\n",
    "    while(counter != number_of_nodes - 1):\n",
    "       item = heap.remove()\n",
    "       if(does_create_cycle(item.to,item.origin)):continue\n",
    "       reconstructed_path.append(item)\n",
    "       counter += 1"
   ]
  },
  {
   "cell_type": "markdown",
   "id": "cb844111-18d6-4a48-9998-77d7b47531b0",
   "metadata": {},
   "source": [
    "shows contents of the reconstructed_path"
   ]
  },
  {
   "cell_type": "code",
   "execution_count": 13,
   "id": "ebaa2d46-9efb-437d-a3bd-2c8e11236fae",
   "metadata": {},
   "outputs": [],
   "source": [
    "def show():\n",
    "    for i in reconstructed_path:\n",
    "        print(f\"{i.origin} to {i.to} = {i.weight}\")"
   ]
  },
  {
   "cell_type": "code",
   "execution_count": 14,
   "id": "a8a117b9-a6e2-4005-a466-13c8337a8d96",
   "metadata": {
    "tags": []
   },
   "outputs": [
    {
     "name": "stdout",
     "output_type": "stream",
     "text": [
      "I to J = 0\n",
      "C to I = 1\n",
      "G to H = 1\n",
      "E to F = 1\n",
      "A to E = 1\n",
      "D to H = 2\n",
      "B to D = 2\n",
      "D to E = 2\n",
      "G to I = 4\n"
     ]
    }
   ],
   "source": [
    "search_and_create_min_heap()\n",
    "show()"
   ]
  },
  {
   "attachments": {
    "03f50e64-4d17-4e8f-a1fc-0638637d7f14.png": {
     "image/png": "[encoded data removed]"
    }
   },
   "cell_type": "markdown",
   "id": "d5710c67-4f56-4108-ba16-b2463018603d",
   "metadata": {},
   "source": [
    "as you can see results could be different but same in weight cost ==> \n",
    "\n",
    "\n",
    "\n",
    "\n",
    "\n",
    "![Screenshot (96).png](attachment:03f50e64-4d17-4e8f-a1fc-0638637d7f14.png)\n",
    "\n",
    "\n",
    "\n",
    "\n",
    "\n",
    "here instead of b to c = 4 we have g to i = 4"
   ]
  }
 ],
 "metadata": {
  "kernelspec": {
   "display_name": "Python 3 (ipykernel)",
   "language": "python",
   "name": "python3"
  },
  "language_info": {
   "codemirror_mode": {
    "name": "ipython",
    "version": 3
   },
   "file_extension": ".py",
   "mimetype": "text/x-python",
   "name": "python",
   "nbconvert_exporter": "python",
   "pygments_lexer": "ipython3",
   "version": "3.11.3"
  }
 },
 "nbformat": 4,
 "nbformat_minor": 5
}
