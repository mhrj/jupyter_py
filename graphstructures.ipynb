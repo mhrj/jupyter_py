{
 "cells": [
  {
   "cell_type": "code",
   "execution_count": null,
   "id": "b1ab8f3e-d5a2-47d6-baa2-8c5903389725",
   "metadata": {},
   "outputs": [],
   "source": [
    "class node:\n",
    "    def __init__(self,weight = None,to = None,origin = None) -> None:\n",
    "        self.weight = weight\n",
    "        self.to = to\n",
    "        self.origin = origin"
   ]
  }
 ],
 "metadata": {
  "kernelspec": {
   "display_name": "Python 3 (ipykernel)",
   "language": "python",
   "name": "python3"
  },
  "language_info": {
   "codemirror_mode": {
    "name": "ipython",
    "version": 3
   },
   "file_extension": ".py",
   "mimetype": "text/x-python",
   "name": "python",
   "nbconvert_exporter": "python",
   "pygments_lexer": "ipython3",
   "version": "3.11.3"
  }
 },
 "nbformat": 4,
 "nbformat_minor": 5
}
