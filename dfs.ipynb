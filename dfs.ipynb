{
 "cells": [
  {
   "cell_type": "markdown",
   "id": "d77972d0",
   "metadata": {},
   "source": [
    "in this file we run dfs related codes"
   ]
  },
  {
   "cell_type": "markdown",
   "id": "870411bd",
   "metadata": {},
   "source": [
    "import files ==>"
   ]
  },
  {
   "cell_type": "code",
   "execution_count": 35,
   "id": "3d6ee750",
   "metadata": {},
   "outputs": [],
   "source": [
    "%run linked_list.ipynb\n",
    "%run draft.ipynb"
   ]
  },
  {
   "cell_type": "markdown",
   "id": "a98e36b6",
   "metadata": {},
   "source": [
    "raw data to work with"
   ]
  },
  {
   "cell_type": "code",
   "execution_count": 36,
   "id": "ab2e455e",
   "metadata": {},
   "outputs": [],
   "source": [
    "number_of_nodes = 6\n",
    "adjacy_matrices = [[0,1,1,0,0,0],\n",
    "                   [1,0,1,1,0,0],\n",
    "                   [1,1,0,1,0,1],\n",
    "                   [0,1,1,0,1,0],\n",
    "                   [0,0,0,1,0,1],\n",
    "                   [0,0,1,0,1,0]]"
   ]
  },
  {
   "cell_type": "markdown",
   "id": "2308ab05",
   "metadata": {},
   "source": [
    "to convert adjacency matrices to linked list"
   ]
  },
  {
   "cell_type": "code",
   "execution_count": 37,
   "id": "1397f5ae",
   "metadata": {},
   "outputs": [],
   "source": [
    "def adjacency_to_linked(number_of_nodes,adjacency):\n",
    "    l = GraphLinkedList()\n",
    "    l.adjacency_to_linked_list(number_of_nodes,adjacency)\n",
    "    return l"
   ]
  },
  {
   "cell_type": "markdown",
   "id": "356bb345",
   "metadata": {},
   "source": [
    "global variables"
   ]
  },
  {
   "cell_type": "code",
   "execution_count": 38,
   "id": "5dec2ec9",
   "metadata": {},
   "outputs": [],
   "source": [
    "adjacency_list = adjacency_to_linked(number_of_nodes,adjacy_matrices)\n",
    "visited = [False,False,False,False,False,False,False]\n",
    "components = [0 for i in range(number_of_nodes)]"
   ]
  },
  {
   "cell_type": "markdown",
   "id": "7672e636",
   "metadata": {},
   "source": [
    "here we have dfs and we want to find all cycles in a graph to do so we need to know which node has been seen first(d) and which node complited and fully explored its neighbours(f) we have these info (d and f) in linked_list class as fields"
   ]
  },
  {
   "cell_type": "code",
   "execution_count": 39,
   "id": "a7b41cd5",
   "metadata": {},
   "outputs": [],
   "source": [
    "def dfs(p,node , counter):\n",
    "    visited[node.element] = True\n",
    "    adjacency_list.time += 1\n",
    "    node.d = adjacency_list.time\n",
    "    node.p = p \n",
    "    components[node.element] = counter\n",
    "    n = node.next\n",
    "    while(n != None):\n",
    "        if(visited[n.element] == False):\n",
    "            dfs(node.element,adjacency_list.list[n.element],counter)\n",
    "        n = n.next\n",
    "    adjacency_list.time += 1\n",
    "    node.f = adjacency_list.time"
   ]
  },
  {
   "cell_type": "code",
   "execution_count": 40,
   "id": "1b089a09",
   "metadata": {},
   "outputs": [],
   "source": [
    "def find_components(num_of_nodes):\n",
    "    counter = 0\n",
    "    for node in adjacency_list.list:\n",
    "        if(visited[node.element] == False):\n",
    "            counter += 1\n",
    "            dfs(-1,node , counter)"
   ]
  },
  {
   "cell_type": "markdown",
   "id": "0052c33f",
   "metadata": {},
   "source": [
    "here we get data from dfs,determine the cycles and show cycles"
   ]
  },
  {
   "cell_type": "code",
   "execution_count": 41,
   "id": "2ef1e3a8",
   "metadata": {},
   "outputs": [],
   "source": [
    "def create_path(index,p,s):\n",
    "    reconstructed_path = stack()\n",
    "    reconstructed_path.add(s)\n",
    "    compare_node = s\n",
    "    for i in range(index,len(p)):\n",
    "        if (p[i][1] == compare_node[0]):\n",
    "            reconstructed_path.add(p[i])\n",
    "            compare_node = p[i]\n",
    "        if(s[1] == compare_node[0]): break\n",
    "    print(f\"cycle on {s[1]} ==>\")\n",
    "    print(f\"path : {reconstructed_path.give_stack()}\")"
   ]
  },
  {
   "cell_type": "code",
   "execution_count": 42,
   "id": "2f133fff",
   "metadata": {},
   "outputs": [],
   "source": [
    "def re_path(cycle_nodes,p):\n",
    "    for node in cycle_nodes:\n",
    "        for index,n in enumerate(p.give_stack()):\n",
    "            if(node == n):\n",
    "                create_path(index + 1,p.give_stack(),n)\n",
    "                break"
   ]
  },
  {
   "cell_type": "code",
   "execution_count": 43,
   "id": "be69fa72",
   "metadata": {},
   "outputs": [],
   "source": [
    "def find_cycles():\n",
    "    p = stack()\n",
    "    cycle_nodes = []\n",
    "    for target_node in adjacency_list.list:\n",
    "        next_node = target_node.next\n",
    "        while(next_node!= None):\n",
    "            v = adjacency_list.list[next_node.element]\n",
    "            if(target_node.d > v.d and target_node.f < v.f and target_node.p != v.element):\n",
    "                cycle_nodes.append([target_node.element,next_node.element])\n",
    "            p.add([target_node.element,next_node.element])\n",
    "            next_node = next_node.next    \n",
    "\n",
    "    if(cycle_nodes != []):\n",
    "        re_path(cycle_nodes,p)\n",
    "    else:\n",
    "        print(\"there is no cycle!\")"
   ]
  },
  {
   "cell_type": "code",
   "execution_count": 44,
   "id": "78b7fd65",
   "metadata": {},
   "outputs": [],
   "source": [
    "find_components(number_of_nodes)"
   ]
  },
  {
   "cell_type": "code",
   "execution_count": 45,
   "id": "cee581fc",
   "metadata": {},
   "outputs": [
    {
     "name": "stdout",
     "output_type": "stream",
     "text": [
      "cycle on 0 ==>\n",
      "path : [[0, 1], [1, 2], [2, 0]]\n",
      "cycle on 1 ==>\n",
      "path : [[1, 2], [2, 3], [3, 1]]\n",
      "cycle on 2 ==>\n",
      "path : [[2, 3], [3, 4], [4, 5], [5, 2]]\n"
     ]
    }
   ],
   "source": [
    "find_cycles()"
   ]
  }
 ],
 "metadata": {
  "kernelspec": {
   "display_name": "Python 3 (ipykernel)",
   "language": "python",
   "name": "python3"
  },
  "language_info": {
   "codemirror_mode": {
    "name": "ipython",
    "version": 3
   },
   "file_extension": ".py",
   "mimetype": "text/x-python",
   "name": "python",
   "nbconvert_exporter": "python",
   "pygments_lexer": "ipython3",
   "version": "3.11.3"
  }
 },
 "nbformat": 4,
 "nbformat_minor": 5
}
