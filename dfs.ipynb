{
 "cells": [
  {
   "cell_type": "markdown",
   "id": "d77972d0",
   "metadata": {},
   "source": [
    "in this file we run dfs related codes"
   ]
  },
  {
   "cell_type": "code",
   "execution_count": 6,
   "id": "7f6abcc0",
   "metadata": {},
   "outputs": [
    {
     "name": "stdout",
     "output_type": "stream",
     "text": [
      "cycle on 0 ==>\n",
      "path : [[0, 1], [1, 2], [2, 0]]\n",
      "cycle on 1 ==>\n",
      "path : [[1, 2], [2, 3], [3, 1]]\n",
      "cycle on 2 ==>\n",
      "path : [[2, 3], [3, 4], [4, 5], [5, 2]]\n"
     ]
    }
   ],
   "source": [
    "%run linked_list.ipynb\n",
    "%run draft.ipynb\n",
    "\n",
    "\n",
    "# dfs with recursive functionality\n",
    "number_of_nodes = 6\n",
    "adjacy_matrices = [[0,1,1,0,0,0],\n",
    "                   [1,0,1,1,0,0],\n",
    "                   [1,1,0,1,0,1],\n",
    "                   [0,1,1,0,1,0],\n",
    "                   [0,0,0,1,0,1],\n",
    "                   [0,0,1,0,1,0]]\n",
    "\n",
    "def adjacency_to_linked(number_of_nodes,adjacency):\n",
    "    l = GraphLinkedList()\n",
    "    l.adjacency_to_linked_list(number_of_nodes,adjacency)\n",
    "    return l\n",
    "    \n",
    "adjacency_list = adjacency_to_linked(number_of_nodes,adjacy_matrices)\n",
    "visited = [False,False,False,False,False,False,False]\n",
    "components = [0 for i in range(number_of_nodes)]\n",
    "\n",
    "def find_components(num_of_nodes):\n",
    "    counter = 0\n",
    "    for node in adjacency_list.list:\n",
    "        if(visited[node.element] == False):\n",
    "            counter += 1\n",
    "            dfs(-1,node , counter)\n",
    "            \n",
    "\n",
    "def dfs(p,node , counter):\n",
    "    visited[node.element] = True\n",
    "    adjacency_list.time += 1\n",
    "    node.d = adjacency_list.time\n",
    "    node.p = p \n",
    "    components[node.element] = counter\n",
    "    n = node.next\n",
    "    while(n != None):\n",
    "        if(visited[n.element] == False):\n",
    "            dfs(node.element,adjacency_list.list[n.element],counter)\n",
    "        n = n.next\n",
    "    adjacency_list.time += 1\n",
    "    node.f = adjacency_list.time\n",
    "\n",
    "    \n",
    "\n",
    "def create_path(index,p,s):\n",
    "    reconstructed_path = stack()\n",
    "    reconstructed_path.add(s)\n",
    "    compare_node = s\n",
    "    for i in range(index,len(p)):\n",
    "        if (p[i][1] == compare_node[0]):\n",
    "            reconstructed_path.add(p[i])\n",
    "            compare_node = p[i]\n",
    "        if(s[1] == compare_node[0]): break\n",
    "    print(f\"cycle on {s[1]} ==>\")\n",
    "    print(f\"path : {reconstructed_path.give_stack()}\")\n",
    "        \n",
    "        \n",
    "def re_path(cycle_nodes,p):\n",
    "    for node in cycle_nodes:\n",
    "        for index,n in enumerate(p.give_stack()):\n",
    "            if(node == n):\n",
    "                create_path(index + 1,p.give_stack(),n)\n",
    "                break\n",
    "                \n",
    "def find_cycles():\n",
    "    p = stack()\n",
    "    cycle_nodes = []\n",
    "    for target_node in adjacency_list.list:\n",
    "        next_node = target_node.next\n",
    "        while(next_node!= None):\n",
    "            v = adjacency_list.list[next_node.element]\n",
    "            if(target_node.d > v.d and target_node.f < v.f and target_node.p != v.element):\n",
    "                cycle_nodes.append([target_node.element,next_node.element])\n",
    "            p.add([target_node.element,next_node.element])\n",
    "            next_node = next_node.next    \n",
    "\n",
    "    if(cycle_nodes != []):\n",
    "        re_path(cycle_nodes,p)\n",
    "    else:\n",
    "        print(\"there is no cycle!\")\n",
    "\n",
    "\n",
    "find_components(number_of_nodes)\n",
    "find_cycles()"
   ]
  },
  {
   "cell_type": "code",
   "execution_count": null,
   "id": "be0f2cd6",
   "metadata": {},
   "outputs": [],
   "source": []
  }
 ],
 "metadata": {
  "kernelspec": {
   "display_name": "Python 3 (ipykernel)",
   "language": "python",
   "name": "python3"
  },
  "language_info": {
   "codemirror_mode": {
    "name": "ipython",
    "version": 3
   },
   "file_extension": ".py",
   "mimetype": "text/x-python",
   "name": "python",
   "nbconvert_exporter": "python",
   "pygments_lexer": "ipython3",
   "version": "3.11.3"
  }
 },
 "nbformat": 4,
 "nbformat_minor": 5
}
