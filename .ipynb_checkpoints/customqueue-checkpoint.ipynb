{
 "cells": [
  {
   "cell_type": "code",
   "execution_count": null,
   "id": "78e4924a-2cb3-4a6b-9586-8743b13d1a5f",
   "metadata": {},
   "outputs": [],
   "source": [
    "class queue:\n",
    "    def __init__(self):\n",
    "        self.__list = []\n",
    "        \n",
    "    def __len__(self):\n",
    "        return len(self.__list)\n",
    "\n",
    "    def add(self,num):\n",
    "        self.__list.append(num)\n",
    "    \n",
    "    def pop(self):\n",
    "        if(len(self.__list)- 1 >= 0):\n",
    "           item = self.__list[0]\n",
    "           del self.__list[0]\n",
    "           return item\n",
    "        else:\n",
    "            return -1\n",
    "    \n",
    "    def give_item(self,index):\n",
    "       if(len(self.__list) > 0):\n",
    "           item = list[index]\n",
    "           return item\n",
    "       else:\n",
    "           return -1\n",
    "   \n",
    "    def give_queue(self):\n",
    "        return self.__list   "
   ]
  },
  {
   "cell_type": "markdown",
   "id": "9be85fad-7cf6-491e-bb2c-7867e361ae7c",
   "metadata": {},
   "source": [
    "priority queue picking smallest item"
   ]
  },
  {
   "cell_type": "code",
   "execution_count": null,
   "id": "00e2d5a5-c276-4b05-8d3e-243523a1564e",
   "metadata": {},
   "outputs": [],
   "source": [
    "class priorityQueue:\n",
    "    def __init__(self):\n",
    "        self.__list = []\n",
    "        \n",
    "    def __len__(self):\n",
    "        return len(self.__list) \n",
    "\n",
    "    def add(self,num):\n",
    "        self.__list.append(num)\n",
    "        \n",
    "    def update(self,num):\n",
    "        self.__list[0].weight = num\n",
    "        \n",
    "    def does_exist(self,num):\n",
    "        for i in range(self.__list.__len__()):\n",
    "            if(num.to == self.__list[i].to):\n",
    "                return i\n",
    "            else:\n",
    "                return -1\n",
    "        return -1\n",
    "    \n",
    "    def pop(self):\n",
    "        if self.__len__() > 0:\n",
    "            min_val = node(weight=math.inf,to=math.inf)\n",
    "            min_val_index = 0\n",
    "            for i in range(self.__len__()):\n",
    "                if(self.__list[i].weight < min_val.weight):\n",
    "                    min_val_index = i\n",
    "                    min_val = self.__list[i]\n",
    "            del self.__list[min_val_index]\n",
    "            return min_val"
   ]
  }
 ],
 "metadata": {
  "kernelspec": {
   "display_name": "Python 3 (ipykernel)",
   "language": "python",
   "name": "python3"
  },
  "language_info": {
   "codemirror_mode": {
    "name": "ipython",
    "version": 3
   },
   "file_extension": ".py",
   "mimetype": "text/x-python",
   "name": "python",
   "nbconvert_exporter": "python",
   "pygments_lexer": "ipython3",
   "version": "3.11.3"
  }
 },
 "nbformat": 4,
 "nbformat_minor": 5
}
