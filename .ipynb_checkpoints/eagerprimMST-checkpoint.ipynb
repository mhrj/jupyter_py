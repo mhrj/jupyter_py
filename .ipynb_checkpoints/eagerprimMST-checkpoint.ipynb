{
 "cells": [
  {
   "cell_type": "markdown",
   "id": "bae11135-7866-4229-b2af-a53f955ecb74",
   "metadata": {},
   "source": [
    "refrence video ==> https://youtu.be/09_LlHjoEiY?si=GgJIJ0S3352gEpcX&t=16625"
   ]
  },
  {
   "cell_type": "code",
   "execution_count": 35,
   "id": "325417bc-12e4-4d2a-a531-1a5fd4ad20a2",
   "metadata": {},
   "outputs": [],
   "source": [
    "import math\n",
    "%run graphstructures.ipynb\n",
    "%run customheap.ipynb"
   ]
  },
  {
   "attachments": {
    "b1a7076d-999d-434d-ba1a-c377415935a8.png": {
     "image/png": "[encoded data removed]"
    }
   },
   "cell_type": "markdown",
   "id": "6fc3b9f1-592d-447a-aec7-9b1342d9f9f3",
   "metadata": {},
   "source": [
    "semi_matrix representing graph\n",
    "\n",
    "\n",
    "\n",
    "\n",
    "![Screenshot (93).png](attachment:b1a7076d-999d-434d-ba1a-c377415935a8.png)"
   ]
  },
  {
   "cell_type": "code",
   "execution_count": 36,
   "id": "d7969415-8eeb-4e4b-b6ca-4b83b021c7f1",
   "metadata": {},
   "outputs": [],
   "source": [
    "number_of_nodes = 7\n",
    "semi_matrix = [[-1,9,0,5,-1,7,-1],\n",
    "               [9,-1,-1,-2,3,-1,4],\n",
    "               [0,-1,-1,-1,-1,6,-1],\n",
    "               [5,-2,-1,-1,-1,2,3],\n",
    "               [-1,3,-1,-1,-1,-1,6],\n",
    "               [7,-1,6,2,-1,-1,1],\n",
    "               [4,-1,-1,3,6,1,-1]]"
   ]
  },
  {
   "cell_type": "markdown",
   "id": "c6e0c849-8fac-43e8-a47d-94c4d77497ae",
   "metadata": {},
   "source": [
    "to create a visited list with length of total nodes (here total of 7)"
   ]
  },
  {
   "cell_type": "code",
   "execution_count": 37,
   "id": "fd9d3506-b1d8-4ed4-a22c-182a7cdc1897",
   "metadata": {},
   "outputs": [],
   "source": [
    "def create_visited():\n",
    "    visited = [False] * number_of_nodes\n",
    "    visited[0] = True\n",
    "    return visited "
   ]
  },
  {
   "cell_type": "markdown",
   "id": "c96d077a-a2ef-4c52-a557-9aed44a21984",
   "metadata": {},
   "source": [
    "creating a dictionary with key length of total nodes (here total of 8), we use this to store our new minimum spanning tree"
   ]
  },
  {
   "cell_type": "code",
   "execution_count": 38,
   "id": "292a5f3d-9568-47a6-a7c3-142330a45bf0",
   "metadata": {},
   "outputs": [],
   "source": [
    "def create_mst_dict():\n",
    "    mst = {}\n",
    "    for i in range(0,number_of_nodes):\n",
    "        mst[i] = []\n",
    "    return mst"
   ]
  },
  {
   "cell_type": "markdown",
   "id": "a638e785-c16a-4e08-9cec-259ebb8124fa",
   "metadata": {},
   "source": [
    "this method tracks the best and most promissing nodes in lazy_prim method, after the most promissing node pops from proirity queue, saves it in mst ditionary, count total saved promissing nodes in node_counter variable and tracks total cost of mst"
   ]
  },
  {
   "cell_type": "code",
   "execution_count": 39,
   "id": "b1b4bdf8-7933-4cf0-99f2-abe02e55d882",
   "metadata": {},
   "outputs": [],
   "source": [
    "def re_create_path(origin,to,weight):\n",
    "    global node_counter\n",
    "    global path_cost\n",
    "    mst[origin].append(to)\n",
    "    node_counter += 1\n",
    "    path_cost += weight "
   ]
  },
  {
   "cell_type": "markdown",
   "id": "ec04abdb-f80a-4946-845c-eee76bef5a55",
   "metadata": {},
   "source": [
    "get all edges of the graph"
   ]
  },
  {
   "cell_type": "code",
   "execution_count": 40,
   "id": "ffc2eef2-81d5-4096-ab8d-4b18c4e6004f",
   "metadata": {},
   "outputs": [],
   "source": [
    "def calculate_all_edges():\n",
    "    edge = 0\n",
    "    for row in semi_matrix:\n",
    "        for node in row:\n",
    "            if(node != -1):\n",
    "                edge += 1\n",
    "    return edge"
   ]
  },
  {
   "cell_type": "markdown",
   "id": "3bea3118-ceea-43c1-88b0-fd7d1d000c43",
   "metadata": {},
   "source": [
    "path_cost: saves total cost of mst tree|,, node_counter: saves total moves on nodes on graph (when the next most promissing node pops)|,, visited: to track so we dont see any node twice|,, ipq: to create a min indexed dheap |,, mst: a distionary to store our new mst tree|,, edges: using this to determine how many childeren every node should have in dheap|,,"
   ]
  },
  {
   "cell_type": "code",
   "execution_count": 41,
   "id": "909e79bc-0527-4f21-b297-0278dcc697da",
   "metadata": {},
   "outputs": [],
   "source": [
    "path_cost = 0\n",
    "node_counter = 1\n",
    "visited = create_visited()\n",
    "mst = create_mst_dict()\n",
    "edges = calculate_all_edges()\n",
    "degree = math.ceil(edges / number_of_nodes)\n",
    "ipq = MinIndexedDHeap(degree)"
   ]
  },
  {
   "cell_type": "markdown",
   "id": "4f5338ba-0ce8-4a83-b63d-63d8ecf5b5e3",
   "metadata": {},
   "source": [
    "lazy_prim algorithm starts at node 0 searches all 0 neghbourings adding them to heap then pulling the most promissing one and search all its negbourings then adding them to heap this goes on until we have a mst which means we have seen all most promissing edges on count of number of nodes - 1 in other words we have seen enough promissing edge to create a mst\n",
    "in the eager vertion we add,edit(update) and pop from heap\n",
    "in this one we dont add duplicate edges we update them if we have a better cost to them from other nodes"
   ]
  },
  {
   "cell_type": "code",
   "execution_count": 42,
   "id": "c50e04e3-07c1-4b92-86e3-0614549b6e28",
   "metadata": {},
   "outputs": [],
   "source": [
    "def eager_prim():\n",
    "    ipq.insert(node(0,0,0))\n",
    "    while(ipq.show_length() != 0 and node_counter != number_of_nodes):\n",
    "        item = ipq.remove()\n",
    "        if(visited[item.to] == False):\n",
    "            re_create_path(item.origin,item.to,item.weight)\n",
    "        visited[item.to] = True\n",
    "        for index,weight in enumerate(semi_matrix[item.to]):\n",
    "            if(weight == -1):continue\n",
    "            if(visited[index] == True):continue\n",
    "            prev_item = ipq.does_exist(node(weight,index))\n",
    "            if(prev_item != -1):\n",
    "                if(prev_item.weight > weight):\n",
    "                    ipq.update(index,weight,item.to)\n",
    "            else:\n",
    "                ipq.insert(node(weight,index,item.to))"
   ]
  },
  {
   "cell_type": "code",
   "execution_count": 43,
   "id": "2827a36d-2b32-42c1-98e5-2ca93840a87e",
   "metadata": {
    "tags": []
   },
   "outputs": [
    {
     "name": "stdout",
     "output_type": "stream",
     "text": [
      "{0: [2, 3], 1: [4], 2: [], 3: [1, 5], 4: [], 5: [6], 6: []}\n",
      "with cost of : 9\n"
     ]
    }
   ],
   "source": [
    "eager_prim()\n",
    "print(mst)\n",
    "print(f\"with cost of : {path_cost}\")"
   ]
  },
  {
   "attachments": {
    "e50d1441-9bf0-4e04-bd84-a3c91fcc94e9.png": {
     "image/png": "[encoded data removed]"
    }
   },
   "cell_type": "markdown",
   "id": "6016b303-0c49-4f89-a1e9-72917d256535",
   "metadata": {},
   "source": [
    "![Screenshot (94).png](attachment:e50d1441-9bf0-4e04-bd84-a3c91fcc94e9.png)"
   ]
  }
 ],
 "metadata": {
  "kernelspec": {
   "display_name": "Python 3 (ipykernel)",
   "language": "python",
   "name": "python3"
  },
  "language_info": {
   "codemirror_mode": {
    "name": "ipython",
    "version": 3
   },
   "file_extension": ".py",
   "mimetype": "text/x-python",
   "name": "python",
   "nbconvert_exporter": "python",
   "pygments_lexer": "ipython3",
   "version": "3.11.3"
  }
 },
 "nbformat": 4,
 "nbformat_minor": 5
}
